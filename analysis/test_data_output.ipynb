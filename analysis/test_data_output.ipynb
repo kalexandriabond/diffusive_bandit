{
 "cells": [
  {
   "cell_type": "code",
   "execution_count": 82,
   "metadata": {},
   "outputs": [],
   "source": [
    "import os, sys\n",
    "import pandas as pd; import numpy as np; import matplotlib.pyplot as plt; import seaborn as sns\n",
    "from glob import glob"
   ]
  },
  {
   "cell_type": "code",
   "execution_count": 83,
   "metadata": {},
   "outputs": [],
   "source": [
    "home = os.path.expanduser('~')\n",
    "data_dir = os.path.join(home, 'Documents/diffusive_bandit/data/BIDS/sub*/ses*/beh/')\n",
    "\n",
    "data_fn_pattern = ('sub-0*_ses-0*_task-diffusive-bandit_run-0*_*.csv')\n",
    "\n",
    "data_path = os.path.join(data_dir, data_fn_pattern)"
   ]
  },
  {
   "cell_type": "code",
   "execution_count": 84,
   "metadata": {},
   "outputs": [],
   "source": [
    "data_fns = glob(data_path)"
   ]
  },
  {
   "cell_type": "code",
   "execution_count": 85,
   "metadata": {},
   "outputs": [],
   "source": [
    "data_dfs = [pd.read_csv(f) for f in data_fns]"
   ]
  },
  {
   "cell_type": "code",
   "execution_count": 86,
   "metadata": {},
   "outputs": [],
   "source": [
    "data_df = pd.concat(data_dfs)"
   ]
  },
  {
   "cell_type": "code",
   "execution_count": 87,
   "metadata": {},
   "outputs": [
    {
     "data": {
      "text/html": [
       "<div>\n",
       "<style scoped>\n",
       "    .dataframe tbody tr th:only-of-type {\n",
       "        vertical-align: middle;\n",
       "    }\n",
       "\n",
       "    .dataframe tbody tr th {\n",
       "        vertical-align: top;\n",
       "    }\n",
       "\n",
       "    .dataframe thead th {\n",
       "        text-align: right;\n",
       "    }\n",
       "</style>\n",
       "<table border=\"1\" class=\"dataframe\">\n",
       "  <thead>\n",
       "    <tr style=\"text-align: right;\">\n",
       "      <th></th>\n",
       "      <th>trial</th>\n",
       "      <th>subj_id</th>\n",
       "      <th>run</th>\n",
       "      <th>LR_choice</th>\n",
       "      <th>identity_choice</th>\n",
       "      <th>value_accuracy</th>\n",
       "      <th>LR_solution</th>\n",
       "      <th>reward</th>\n",
       "      <th>cumulative_reward</th>\n",
       "      <th>rt</th>\n",
       "      <th>total_trial_time</th>\n",
       "      <th>iti</th>\n",
       "      <th>high_value_identity</th>\n",
       "      <th>id_choice</th>\n",
       "      <th>stim_duration</th>\n",
       "      <th>stim_onset</th>\n",
       "      <th>stim_offset</th>\n",
       "      <th>abs_response_time</th>\n",
       "      <th>reward_f</th>\n",
       "      <th>reward_m</th>\n",
       "    </tr>\n",
       "  </thead>\n",
       "  <tbody>\n",
       "    <tr>\n",
       "      <th>0</th>\n",
       "      <td>0</td>\n",
       "      <td>6</td>\n",
       "      <td>1</td>\n",
       "      <td>NaN</td>\n",
       "      <td>NaN</td>\n",
       "      <td>NaN</td>\n",
       "      <td>L</td>\n",
       "      <td>0</td>\n",
       "      <td>-20</td>\n",
       "      <td>NaN</td>\n",
       "      <td>1.501505</td>\n",
       "      <td>8.031937</td>\n",
       "      <td>f</td>\n",
       "      <td>NaN</td>\n",
       "      <td>1.490457</td>\n",
       "      <td>0.031171</td>\n",
       "      <td>1.521627</td>\n",
       "      <td>0.781585</td>\n",
       "      <td>84.0</td>\n",
       "      <td>27.0</td>\n",
       "    </tr>\n",
       "    <tr>\n",
       "      <th>1</th>\n",
       "      <td>1</td>\n",
       "      <td>6</td>\n",
       "      <td>1</td>\n",
       "      <td>76.0</td>\n",
       "      <td>f</td>\n",
       "      <td>True</td>\n",
       "      <td>L</td>\n",
       "      <td>8</td>\n",
       "      <td>-12</td>\n",
       "      <td>0.366704</td>\n",
       "      <td>1.501343</td>\n",
       "      <td>5.729698</td>\n",
       "      <td>f</td>\n",
       "      <td>f</td>\n",
       "      <td>1.492387</td>\n",
       "      <td>9.611587</td>\n",
       "      <td>11.103974</td>\n",
       "      <td>9.978300</td>\n",
       "      <td>83.0</td>\n",
       "      <td>56.0</td>\n",
       "    </tr>\n",
       "    <tr>\n",
       "      <th>2</th>\n",
       "      <td>2</td>\n",
       "      <td>6</td>\n",
       "      <td>1</td>\n",
       "      <td>76.0</td>\n",
       "      <td>f</td>\n",
       "      <td>True</td>\n",
       "      <td>L</td>\n",
       "      <td>6</td>\n",
       "      <td>-6</td>\n",
       "      <td>0.354341</td>\n",
       "      <td>1.501290</td>\n",
       "      <td>4.203782</td>\n",
       "      <td>f</td>\n",
       "      <td>f</td>\n",
       "      <td>1.492367</td>\n",
       "      <td>16.891376</td>\n",
       "      <td>18.383742</td>\n",
       "      <td>17.245736</td>\n",
       "      <td>62.0</td>\n",
       "      <td>43.0</td>\n",
       "    </tr>\n",
       "    <tr>\n",
       "      <th>3</th>\n",
       "      <td>3</td>\n",
       "      <td>6</td>\n",
       "      <td>1</td>\n",
       "      <td>76.0</td>\n",
       "      <td>f</td>\n",
       "      <td>True</td>\n",
       "      <td>L</td>\n",
       "      <td>4</td>\n",
       "      <td>-2</td>\n",
       "      <td>0.320085</td>\n",
       "      <td>1.501013</td>\n",
       "      <td>6.510086</td>\n",
       "      <td>f</td>\n",
       "      <td>f</td>\n",
       "      <td>1.491961</td>\n",
       "      <td>22.635557</td>\n",
       "      <td>24.127518</td>\n",
       "      <td>22.955650</td>\n",
       "      <td>49.0</td>\n",
       "      <td>22.0</td>\n",
       "    </tr>\n",
       "    <tr>\n",
       "      <th>4</th>\n",
       "      <td>4</td>\n",
       "      <td>6</td>\n",
       "      <td>1</td>\n",
       "      <td>76.0</td>\n",
       "      <td>f</td>\n",
       "      <td>True</td>\n",
       "      <td>L</td>\n",
       "      <td>7</td>\n",
       "      <td>5</td>\n",
       "      <td>0.354133</td>\n",
       "      <td>1.500840</td>\n",
       "      <td>5.229639</td>\n",
       "      <td>f</td>\n",
       "      <td>f</td>\n",
       "      <td>1.486547</td>\n",
       "      <td>30.699895</td>\n",
       "      <td>32.186442</td>\n",
       "      <td>31.054039</td>\n",
       "      <td>75.0</td>\n",
       "      <td>24.0</td>\n",
       "    </tr>\n",
       "  </tbody>\n",
       "</table>\n",
       "</div>"
      ],
      "text/plain": [
       "   trial  subj_id  run  LR_choice identity_choice value_accuracy LR_solution  \\\n",
       "0      0        6    1        NaN             NaN            NaN           L   \n",
       "1      1        6    1       76.0               f           True           L   \n",
       "2      2        6    1       76.0               f           True           L   \n",
       "3      3        6    1       76.0               f           True           L   \n",
       "4      4        6    1       76.0               f           True           L   \n",
       "\n",
       "   reward  cumulative_reward        rt  total_trial_time       iti  \\\n",
       "0       0                -20       NaN          1.501505  8.031937   \n",
       "1       8                -12  0.366704          1.501343  5.729698   \n",
       "2       6                 -6  0.354341          1.501290  4.203782   \n",
       "3       4                 -2  0.320085          1.501013  6.510086   \n",
       "4       7                  5  0.354133          1.500840  5.229639   \n",
       "\n",
       "  high_value_identity id_choice  stim_duration  stim_onset  stim_offset  \\\n",
       "0                   f       NaN       1.490457    0.031171     1.521627   \n",
       "1                   f         f       1.492387    9.611587    11.103974   \n",
       "2                   f         f       1.492367   16.891376    18.383742   \n",
       "3                   f         f       1.491961   22.635557    24.127518   \n",
       "4                   f         f       1.486547   30.699895    32.186442   \n",
       "\n",
       "   abs_response_time  reward_f  reward_m  \n",
       "0           0.781585      84.0      27.0  \n",
       "1           9.978300      83.0      56.0  \n",
       "2          17.245736      62.0      43.0  \n",
       "3          22.955650      49.0      22.0  \n",
       "4          31.054039      75.0      24.0  "
      ]
     },
     "execution_count": 87,
     "metadata": {},
     "output_type": "execute_result"
    }
   ],
   "source": [
    "data_df.head()"
   ]
  },
  {
   "cell_type": "code",
   "execution_count": 88,
   "metadata": {},
   "outputs": [
    {
     "data": {
      "text/plain": [
       "Index(['trial', 'subj_id', 'run', 'LR_choice', 'identity_choice',\n",
       "       'value_accuracy', 'LR_solution', 'reward', 'cumulative_reward', 'rt',\n",
       "       'total_trial_time', 'iti', 'high_value_identity', 'id_choice',\n",
       "       'stim_duration', 'stim_onset', 'stim_offset', 'abs_response_time',\n",
       "       'reward_f', 'reward_m'],\n",
       "      dtype='object')"
      ]
     },
     "execution_count": 88,
     "metadata": {},
     "output_type": "execute_result"
    }
   ],
   "source": [
    "data_df.columns"
   ]
  },
  {
   "cell_type": "code",
   "execution_count": 78,
   "metadata": {},
   "outputs": [
    {
     "data": {
      "text/plain": [
       "0     f\n",
       "1     f\n",
       "2     f\n",
       "3     f\n",
       "4     f\n",
       "5     f\n",
       "6     f\n",
       "7     f\n",
       "8     f\n",
       "9     f\n",
       "10    m\n",
       "11    m\n",
       "Name: high_value_identity, dtype: object"
      ]
     },
     "execution_count": 78,
     "metadata": {},
     "output_type": "execute_result"
    }
   ],
   "source": [
    "data_df.high_value_identity"
   ]
  },
  {
   "cell_type": "code",
   "execution_count": 79,
   "metadata": {},
   "outputs": [
    {
     "data": {
      "text/plain": [
       "0     NaN\n",
       "1     NaN\n",
       "2       m\n",
       "3       m\n",
       "4       m\n",
       "5       m\n",
       "6       m\n",
       "7     NaN\n",
       "8       m\n",
       "9       m\n",
       "10    NaN\n",
       "11    NaN\n",
       "Name: identity_choice, dtype: object"
      ]
     },
     "execution_count": 79,
     "metadata": {},
     "output_type": "execute_result"
    }
   ],
   "source": [
    "data_df.identity_choice"
   ]
  },
  {
   "cell_type": "code",
   "execution_count": 80,
   "metadata": {},
   "outputs": [
    {
     "data": {
      "text/plain": [
       "0      0\n",
       "1      0\n",
       "2     43\n",
       "3     22\n",
       "4     24\n",
       "5     35\n",
       "6     38\n",
       "7      0\n",
       "8     41\n",
       "9     39\n",
       "10     0\n",
       "11     0\n",
       "Name: reward, dtype: int64"
      ]
     },
     "execution_count": 80,
     "metadata": {},
     "output_type": "execute_result"
    }
   ],
   "source": [
    "data_df.reward"
   ]
  },
  {
   "cell_type": "code",
   "execution_count": 81,
   "metadata": {},
   "outputs": [
    {
     "data": {
      "text/plain": [
       "Index(['trial', 'subj_id', 'run', 'LR_choice', 'identity_choice',\n",
       "       'value_accuracy', 'LR_solution', 'reward', 'cumulative_reward', 'rt',\n",
       "       'total_trial_time', 'iti', 'high_value_identity', 'id_choice',\n",
       "       'stim_duration', 'stim_onset', 'stim_offset', 'abs_response_time'],\n",
       "      dtype='object')"
      ]
     },
     "execution_count": 81,
     "metadata": {},
     "output_type": "execute_result"
    }
   ],
   "source": [
    "data_df.columns\n"
   ]
  },
  {
   "cell_type": "code",
   "execution_count": 70,
   "metadata": {},
   "outputs": [
    {
     "name": "stderr",
     "output_type": "stream",
     "text": [
      "/Users/i_67981492/anaconda3/lib/python3.8/site-packages/seaborn/algorithms.py:85: RuntimeWarning: Mean of empty slice\n",
      "  boot_dist.append(f(*sample, **func_kwargs))\n"
     ]
    },
    {
     "data": {
      "text/plain": [
       "Text(0.5, 0, 'Trial')"
      ]
     },
     "execution_count": 70,
     "metadata": {},
     "output_type": "execute_result"
    },
    {
     "data": {
      "image/png": "[encoded data removed]",
      "text/plain": [
       "<Figure size 432x288 with 1 Axes>"
      ]
     },
     "metadata": {
      "needs_background": "light"
     },
     "output_type": "display_data"
    }
   ],
   "source": [
    "sns.lineplot(x=\"trial\",y=\"rt\", data=data_df, estimator=np.nanmean)\n",
    "plt.ylabel('RT (s)'); plt.xlabel('Trial')"
   ]
  },
  {
   "cell_type": "code",
   "execution_count": 56,
   "metadata": {},
   "outputs": [],
   "source": [
    "data_df['value_accuracy'] = data_df.value_accuracy.astype(float)"
   ]
  },
  {
   "cell_type": "code",
   "execution_count": 57,
   "metadata": {},
   "outputs": [
    {
     "data": {
      "text/plain": [
       "Text(0.5, 0, 'Trial')"
      ]
     },
     "execution_count": 57,
     "metadata": {},
     "output_type": "execute_result"
    },
    {
     "data": {
      "image/png": "[encoded data removed]",
      "text/plain": [
       "<Figure size 432x288 with 1 Axes>"
      ]
     },
     "metadata": {
      "needs_background": "light"
     },
     "output_type": "display_data"
    }
   ],
   "source": [
    "sns.lineplot(x=\"trial\",y=\"value_accuracy\", data=data_df, estimator=np.nanmean)\n",
    "plt.ylabel('Value accuracy (choice == max. reward identity)'); plt.xlabel('Trial')"
   ]
  },
  {
   "cell_type": "code",
   "execution_count": null,
   "metadata": {},
   "outputs": [],
   "source": []
  }
 ],
 "metadata": {
  "kernelspec": {
   "display_name": "Python 3",
   "language": "python",
   "name": "python3"
  },
  "language_info": {
   "codemirror_mode": {
    "name": "ipython",
    "version": 3
   },
   "file_extension": ".py",
   "mimetype": "text/x-python",
   "name": "python",
   "nbconvert_exporter": "python",
   "pygments_lexer": "ipython3",
   "version": "3.8.5"
  }
 },
 "nbformat": 4,
 "nbformat_minor": 4
}
